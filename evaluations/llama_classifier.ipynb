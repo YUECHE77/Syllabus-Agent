{
  "nbformat": 4,
  "nbformat_minor": 0,
  "metadata": {
    "colab": {
      "provenance": []
    },
    "kernelspec": {
      "name": "python3",
      "display_name": "Python 3"
    },
    "language_info": {
      "name": "python"
    }
  },
  "cells": [
    {
      "cell_type": "code",
      "execution_count": null,
      "metadata": {
        "colab": {
          "base_uri": "https://localhost:8080/"
        },
        "id": "ALq_29KCviCk",
        "outputId": "90129a3b-95c5-4b84-a0be-a67e6978385f"
      },
      "outputs": [
        {
          "output_type": "stream",
          "name": "stdout",
          "text": [
            "\u001b[2K   \u001b[90m━━━━━━━━━━━━━━━━━━━━━━━━━━━━━━━━━━━━━━━━\u001b[0m \u001b[32m70.3/70.3 kB\u001b[0m \u001b[31m1.1 MB/s\u001b[0m eta \u001b[36m0:00:00\u001b[0m\n",
            "\u001b[2K   \u001b[90m━━━━━━━━━━━━━━━━━━━━━━━━━━━━━━━━━━━━━━━━\u001b[0m \u001b[32m4.5/4.5 MB\u001b[0m \u001b[31m15.5 MB/s\u001b[0m eta \u001b[36m0:00:00\u001b[0m\n",
            "\u001b[?25h"
          ]
        }
      ],
      "source": [
        "!pip install -q together"
      ]
    },
    {
      "cell_type": "code",
      "source": [
        "from together import Together\n",
        "import numpy as np\n",
        "import pandas as pd\n",
        "import re\n",
        "import os\n",
        "import copy as cp\n",
        "from tqdm import tqdm\n",
        "import time\n",
        "\n",
        "from google.colab import drive, userdata\n",
        "drive.mount('/content/drive', force_remount=True)\n",
        "TOGETHER_API_KEY = userdata.get('TOGETHER_API_KEY')\n",
        "together = Together(api_key=TOGETHER_API_KEY)"
      ],
      "metadata": {
        "colab": {
          "base_uri": "https://localhost:8080/"
        },
        "id": "5aCDX9tVv41p",
        "outputId": "54a9e494-e52c-45fa-9e2e-62f012516e71"
      },
      "execution_count": null,
      "outputs": [
        {
          "output_type": "stream",
          "name": "stdout",
          "text": [
            "Mounted at /content/drive\n"
          ]
        }
      ]
    },
    {
      "cell_type": "code",
      "source": [
        "courses_numbers = ['544', '566', '585', '596', '599', '626', '677', '699']\n",
        "course_names = ['Applied Natural Language Processing (NLP)', 'Deep Learning and its Applications (DL)', 'Database Systems (database)', 'Scientific Computing and Visualization',\n",
        "         'Distributed Systems', 'Text as Data', 'Advanced Computer Vision (CV)', 'Robotic Perception (Robotics)']\n",
        "\n",
        "full_course_info = dict(zip(['CSCI' + num for num in courses_numbers], ['CSCI' + num + ' ' + name for num, name in zip(courses_numbers, course_names)]))"
      ],
      "metadata": {
        "id": "u5TQIlvTnqju"
      },
      "execution_count": null,
      "outputs": []
    },
    {
      "cell_type": "code",
      "source": [
        "full_course_info"
      ],
      "metadata": {
        "colab": {
          "base_uri": "https://localhost:8080/"
        },
        "id": "qROfSdvqn-bJ",
        "outputId": "a47be940-4cc6-4bc1-b73a-37dbdb1f7e60"
      },
      "execution_count": null,
      "outputs": [
        {
          "output_type": "execute_result",
          "data": {
            "text/plain": [
              "{'CSCI544': 'CSCI544 Applied Natural Language Processing (NLP)',\n",
              " 'CSCI566': 'CSCI566 Deep Learning and its Applications (DL)',\n",
              " 'CSCI585': 'CSCI585 Database Systems (database)',\n",
              " 'CSCI596': 'CSCI596 Scientific Computing and Visualization',\n",
              " 'CSCI599': 'CSCI599 Distributed Systems',\n",
              " 'CSCI626': 'CSCI626 Text as Data',\n",
              " 'CSCI677': 'CSCI677 Advanced Computer Vision (CV)',\n",
              " 'CSCI699': 'CSCI699 Robotic Perception (Robotics)'}"
            ]
          },
          "metadata": {},
          "execution_count": 4
        }
      ]
    },
    {
      "cell_type": "code",
      "source": [
        "def two_queries_prompt(prev_query, curr_query, courses):\n",
        "  courses = \"\\n\".join(courses.values())\n",
        "  question_prompt = f\"\"\"\n",
        "Given the previous and current user queries, determine whether the current query pertains to the same course as the previous query.\n",
        "\n",
        "Previous Query: {prev_query}\n",
        "Current Query: {curr_query}\n",
        "\n",
        "Courses:\n",
        "{courses}\n",
        "\n",
        "Rules:\n",
        "If the user did not specify a course in the current query, then the user is asking about the same course as the previous query.\n",
        "If the user specified a course in the current query, then the user is asking about a different course.\n",
        "Give your answer as a boolean value.\n",
        "\"\"\"\n",
        "  return question_prompt"
      ],
      "metadata": {
        "id": "_ramtCtDQokA"
      },
      "execution_count": null,
      "outputs": []
    },
    {
      "cell_type": "code",
      "source": [
        "def two_queries_prompt_cot(prev_query, curr_query, courses):\n",
        "  courses = \"\\n\".join(courses.values())\n",
        "  question_prompt = f\"\"\"\n",
        "Given the previous and current user queries, determine whether the current query pertains to the same course as the previous query.\n",
        "\n",
        "Previous Query: {prev_query}\n",
        "Current Query: {curr_query}\n",
        "\n",
        "Courses:\n",
        "{courses}\n",
        "\n",
        "Rules:\n",
        "If the user did not specify a course in the current query, then the user is asking about the same course as the previous query.\n",
        "If the user specified a course in the current query, then the user is asking about a different course.\n",
        "\n",
        "Examples:\n",
        "1. Previous Query: Who is the instructor of CSCI544?\n",
        "  Current Query: When is the final exam?\n",
        "  Answer: True\n",
        "\n",
        "2. Previous Query: Who is the instructor of CSCI544?\n",
        "  Current Query: Who is the instructor of CSCI566?\n",
        "  Answer: False\n",
        "\n",
        "3. Previous Query: Who is the instructor?\n",
        "  Current Query: How much does the midterm makes up the grade?\n",
        "  Answer: True\n",
        "\n",
        "Provide your answer as a boolean value.\n",
        "\"\"\"\n",
        "  return question_prompt"
      ],
      "metadata": {
        "id": "3jqd62VRsv9H"
      },
      "execution_count": null,
      "outputs": []
    },
    {
      "cell_type": "code",
      "source": [
        "def two_queries_prompt_one_shot(prev_query, curr_query, courses):\n",
        "  courses = \"\\n\".join(courses.values())\n",
        "  question_prompt = f\"\"\"\n",
        "Given the previous and current user queries, determine whether the current query pertains to the same course as the previous query.\n",
        "\n",
        "Previous Query: {prev_query}\n",
        "Current Query: {curr_query}\n",
        "\n",
        "Courses:\n",
        "{courses}\n",
        "\n",
        "Rules:\n",
        "If the user did not specify a course in the current query, then the user is asking about the same course as the previous query.\n",
        "If the user specified a course in the current query, then the user is asking about a different course.\n",
        "\n",
        "Example:\n",
        "  Previous Query: Who is the instructor?\n",
        "  Current Query: How much does the midterm makes up the grade?\n",
        "  Answer: True\n",
        "\n",
        "Provide your answer as a boolean value.\n",
        "\"\"\"\n",
        "  return question_prompt"
      ],
      "metadata": {
        "id": "vz-1G1JnPcfJ"
      },
      "execution_count": null,
      "outputs": []
    },
    {
      "cell_type": "code",
      "source": [
        "def query_history_prompt_cot(prev_queries, curr_query, courses):\n",
        "  courses = \"\\n\".join(courses.values())\n",
        "  queries = \"\\n\".join(prev_queries)\n",
        "  question_prompt = f\"\"\"\n",
        "Given the previous query history and the current user query, determine whether the current query pertains to the same course as the **last** previous query.\n",
        "\n",
        "Previous Queries:\n",
        "{queries}\n",
        "\n",
        "Current Query: {curr_query}\n",
        "\n",
        "Courses:\n",
        "{courses}\n",
        "\n",
        "Rules:\n",
        "If the user did not specify a course in the current query, then the user is asking about the same course as the previous query.\n",
        "If the user specified a course in the current qery, then the user is asking about a different course.\n",
        "\n",
        "Examples:\n",
        "1. Previous Query: Who is the instructor of CSCI544?\n",
        "  Current Query: When is the final exam?\n",
        "  Answer: True\n",
        "\n",
        "2. Previous Query: Who is the instructor of CSCI544?\n",
        "  Current Query: Who is the instructor of CSCI566?\n",
        "  Answer: False\n",
        "\n",
        "3. Previous Query: Who is the instructor?\n",
        "  Current Query: How much does the midterm makes up the grade?\n",
        "  Answer: True\n",
        "\n",
        "Provide your answer as a boolean value.\n",
        "\"\"\"\n",
        "  return question_prompt"
      ],
      "metadata": {
        "id": "L5t20mUpu74x"
      },
      "execution_count": null,
      "outputs": []
    },
    {
      "cell_type": "code",
      "source": [
        "def binary_prompt_cot(query, courses):\n",
        "  courses = \"\\n\".join(courses.values())\n",
        "  question_prompt = f\"\"\"\n",
        "Given the user query, determine whether the query specifies a course or not.\n",
        "\n",
        "Query: {query}\n",
        "\n",
        "Courses:\n",
        "{courses}\n",
        "\n",
        "Rules:\n",
        "1. A query specifies a course if it explicitly mentions the course name, code, or a clear reference (e.g., \"the database course\").\n",
        "2. If no course is mentioned, the query does not specify a course.\n",
        "\n",
        "Examples:\n",
        "1. Query: Who is the instructor of CSCI544?\n",
        "  Answer: True\n",
        "\n",
        "2. Query: When is the final exam?\n",
        "  Answer: False\n",
        "\n",
        "3. Query: Where is the classroom of the database course?\n",
        "  Answer: True\n",
        "\n",
        "Provide your answer as a boolean value.\n",
        "\"\"\"\n",
        "  return question_prompt\n"
      ],
      "metadata": {
        "id": "Nf-tXfqwZb9T"
      },
      "execution_count": null,
      "outputs": []
    },
    {
      "cell_type": "code",
      "source": [
        "prev_queries = [\"Who is the instructor of CSCI544?\", \"When is the final exam?\", \"Who is the instructor of CSCI566?\"]\n",
        "curr_query = \"How much does the midterm makes up the grade?\"\n",
        "\n",
        "prev = \"When is the first homework due?\"\n",
        "cur = \"When is the final exam?\"\n",
        "\n",
        "question_prompt = two_queries_prompt(prev, cur, full_course_info)\n",
        "question_prompt_cot = two_queries_prompt_cot(prev, cur, full_course_info)\n",
        "question_prompt_history = query_history_prompt_cot(prev_queries, curr_query, full_course_info)\n",
        "question_prompt_binary = binary_prompt_cot(curr_query, full_course_info)\n",
        "question_prompt_one_shot = two_queries_prompt_one_shot(prev, cur, full_course_info)\n"
      ],
      "metadata": {
        "id": "5g9QAEdWqQ4S"
      },
      "execution_count": null,
      "outputs": []
    },
    {
      "cell_type": "code",
      "source": [
        "print(question_prompt_one_shot)"
      ],
      "metadata": {
        "colab": {
          "base_uri": "https://localhost:8080/"
        },
        "id": "Rj8tr40Hqk0V",
        "outputId": "645da253-5f69-4b6d-c36e-c9fcba8e9eec"
      },
      "execution_count": null,
      "outputs": [
        {
          "output_type": "stream",
          "name": "stdout",
          "text": [
            "\n",
            "Given the previous and current user queries, determine whether the current query pertains to the same course as the previous query.\n",
            "\n",
            "Previous Query: When is the first homework due?\n",
            "Current Query: When is the final exam?\n",
            "\n",
            "Courses: \n",
            "CSCI544 Applied Natural Language Processing (NLP)\n",
            "CSCI566 Deep Learning and its Applications (DL)\n",
            "CSCI585 Database Systems (database)\n",
            "CSCI596 Scientific Computing and Visualization\n",
            "CSCI599 Distributed Systems\n",
            "CSCI626 Text as Data\n",
            "CSCI677 Advanced Computer Vision (CV)\n",
            "CSCI699 Robotic Perception (Robotics)\n",
            "\n",
            "Rules: \n",
            "If the user did not specify a course in the current query, then the user is asking about the same course as the previous query.\n",
            "If the user specified a course in the current query, then the user is asking about a different course.\n",
            "\n",
            "Example:\n",
            "  Previous Query: Who is the instructor?\n",
            "  Current Query: How much does the midterm makes up the grade?\n",
            "  Answer: True\n",
            "\n",
            "Provide your answer as a boolean value.\n",
            "\n"
          ]
        }
      ]
    },
    {
      "cell_type": "code",
      "source": [
        "def get_response(prompt):\n",
        "\n",
        "  message = [\n",
        "      {\"role\": \"system\", \"content\": \"You are a helpful assistant.\"},\n",
        "      {\"role\": \"user\", \"content\": prompt}\n",
        "  ]\n",
        "\n",
        "  response = together.chat.completions.create(\n",
        "      model=\"meta-llama/Meta-Llama-3.1-8B-Instruct-Turbo\",\n",
        "      messages=message,\n",
        "      max_tokens=1024,\n",
        "      temperature=0,\n",
        "  )\n",
        "  return response.choices[0].message.content"
      ],
      "metadata": {
        "id": "R6C1R6lWQvnH"
      },
      "execution_count": null,
      "outputs": []
    },
    {
      "cell_type": "code",
      "source": [
        "def extract_bool(response: str):\n",
        "  match = re.search(r'\\b(True|False)\\b', response, re.IGNORECASE)\n",
        "  if match:\n",
        "    return match.group(1).lower() == 'true'\n",
        "  return \"nan\""
      ],
      "metadata": {
        "id": "r685HESYsG-k"
      },
      "execution_count": null,
      "outputs": []
    },
    {
      "cell_type": "code",
      "source": [
        "response = get_response(question_prompt_one_shot)\n",
        "print(response)"
      ],
      "metadata": {
        "colab": {
          "base_uri": "https://localhost:8080/"
        },
        "id": "TnZQOl_7sGoY",
        "outputId": "49997cbf-23e6-41a7-b8be-9f7d837ad559"
      },
      "execution_count": null,
      "outputs": [
        {
          "output_type": "stream",
          "name": "stdout",
          "text": [
            "To determine whether the current query pertains to the same course as the previous query, I need to analyze the previous and current queries.\n",
            "\n",
            "Previous Query: When is the first homework due?\n",
            "Current Query: When is the final exam?\n",
            "\n",
            "The previous query does not specify a course, but the current query does not specify a course either. However, the current query does not contain any keywords that match the course names. \n",
            "\n",
            "Since the current query does not specify a course and does not contain any keywords that match the course names, I will assume that the user is asking about the same course as the previous query.\n",
            "\n",
            "Answer: True\n"
          ]
        }
      ]
    },
    {
      "cell_type": "code",
      "source": [
        "print(extract_bool(response))"
      ],
      "metadata": {
        "colab": {
          "base_uri": "https://localhost:8080/"
        },
        "id": "yqazKjLTyO0-",
        "outputId": "cad60c20-ab04-4e10-a088-e5b5a3225e86"
      },
      "execution_count": null,
      "outputs": [
        {
          "output_type": "stream",
          "name": "stdout",
          "text": [
            "True\n"
          ]
        }
      ]
    },
    {
      "cell_type": "code",
      "source": [
        "test_path = \"/content/drive/MyDrive/CSCI544/Project/dataset/classifier/test.csv\"\n",
        "test_path_binary = \"/content/drive/MyDrive/CSCI544/Project/dataset/classifier/combined_shuffled_binary.csv\"\n",
        "write_path_cot = \"/content/drive/MyDrive/CSCI544/Project/results/test_results_cot.csv\"\n",
        "write_path_reg = \"/content/drive/MyDrive/CSCI544/Project/results/test_results_reg.csv\"\n",
        "write_path_binary = \"/content/drive/MyDrive/CSCI544/Project/results/test_results_binary.csv\"\n",
        "write_path_one_shot = \"/content/drive/MyDrive/CSCI544/Project/results/test_results_one_shot.csv\"\n",
        "\n",
        "with open(test_path, \"r\") as f:\n",
        "  df = pd.read_csv(f)\n",
        "\n",
        "with open(test_path_binary, \"r\") as f:\n",
        "  df_binary = pd.read_csv(f)\n",
        "\n",
        "prev_queries = df[\"query1\"].tolist()\n",
        "curr_queries = df[\"query2\"].tolist()\n",
        "resDF = cp.deepcopy(df)\n",
        "resDF[\"prediction\"] = np.nan\n",
        "\n",
        "queries = df_binary[\"query\"].tolist()\n",
        "resDF_binary = cp.deepcopy(df_binary)\n",
        "resDF_binary[\"prediction\"] = np.nan"
      ],
      "metadata": {
        "id": "uDul_-u63k8D"
      },
      "execution_count": null,
      "outputs": []
    },
    {
      "cell_type": "code",
      "source": [
        "for prev, curr in tqdm(zip(prev_queries, curr_queries), desc=\"Processing Queries\", total=len(prev_queries)):\n",
        "  question_prompt = two_queries_prompt_one_shot(prev, curr, full_course_info)\n",
        "  response = get_response(question_prompt)\n",
        "  pred = extract_bool(response)\n",
        "  resDF.loc[(resDF[\"query1\"] == prev) & (resDF[\"query2\"] == curr), \"prediction\"] = pred"
      ],
      "metadata": {
        "colab": {
          "base_uri": "https://localhost:8080/"
        },
        "collapsed": true,
        "id": "csLb2vwe4WPh",
        "outputId": "a0ee982e-3373-4631-e8bc-dac73bf62278"
      },
      "execution_count": null,
      "outputs": [
        {
          "output_type": "stream",
          "name": "stderr",
          "text": [
            "Processing Queries:   0%|          | 0/1000 [00:00<?, ?it/s]<ipython-input-18-05cb0c7f32fe>:5: FutureWarning: Setting an item of incompatible dtype is deprecated and will raise an error in a future version of pandas. Value 'False' has dtype incompatible with float64, please explicitly cast to a compatible dtype first.\n",
            "  resDF.loc[(resDF[\"query1\"] == prev) & (resDF[\"query2\"] == curr), \"prediction\"] = pred\n",
            "Processing Queries: 100%|██████████| 1000/1000 [22:01<00:00,  1.32s/it]\n"
          ]
        }
      ]
    },
    {
      "cell_type": "code",
      "source": [
        "# test case for Single Query Binary w. 3 shot\n",
        "\n",
        "# for q in tqdm(queries, desc=\"Processing Queries\", total=len(queries)):\n",
        "#   question_prompt = binary_prompt_cot(q, full_course_info)\n",
        "#   response = get_response(question_prompt)\n",
        "#   pred = extract_bool(response)\n",
        "#   resDF_binary.loc[resDF_binary[\"query\"] == q, \"prediction\"] = pred"
      ],
      "metadata": {
        "id": "Bw8uDa4EgBqS"
      },
      "execution_count": null,
      "outputs": []
    },
    {
      "cell_type": "code",
      "source": [
        "with open(write_path_one_shot, \"wb\") as f:\n",
        "  resDF.to_csv(f, index=False)"
      ],
      "metadata": {
        "id": "FoKtWSJZ5ZUE"
      },
      "execution_count": null,
      "outputs": []
    },
    {
      "cell_type": "code",
      "source": [
        "def accuracy(path):\n",
        "  with open(path, \"r\") as f:\n",
        "    df = pd.read_csv(f)\n",
        "  rate = (df[\"prediction\"] == df[\"label\"]).mean()\n",
        "  return rate"
      ],
      "metadata": {
        "id": "EA3DfOMlY49x"
      },
      "execution_count": null,
      "outputs": []
    },
    {
      "cell_type": "code",
      "source": [
        "binary = accuracy(write_path_binary)\n",
        "three_shot = accuracy(write_path_cot)\n",
        "zero_shot = accuracy(write_path_reg)\n",
        "one_shot = accuracy(write_path_one_shot)\n",
        "print(f\"Binary Accuracy: {binary}\")\n",
        "print(f\"COT Accuracy: {three_shot}\")\n",
        "print(f\"Regular Accuracy: {zero_shot}\")\n",
        "print(f\"One Shot Accuracy: {one_shot}\")"
      ],
      "metadata": {
        "colab": {
          "base_uri": "https://localhost:8080/"
        },
        "id": "mc0tAF1M8Lyk",
        "outputId": "0315046e-76b6-492f-ca28-4b930f039b22"
      },
      "execution_count": null,
      "outputs": [
        {
          "output_type": "stream",
          "name": "stdout",
          "text": [
            "Binary Accuracy: 0.8770491803278688\n",
            "COT Accuracy: 0.898\n",
            "Regular Accuracy: 0.834\n",
            "One Shot Accuracy: 0.868\n"
          ]
        }
      ]
    },
    {
      "cell_type": "code",
      "source": [
        "x = pd.DataFrame({\"Model\": [\"Single Query Binary 3 shot\", \"Prev Curr Query 3 shot\", \"Prev Curr Query 1 shot\" ,\"Prev Curr Query 0 shot\"], \"Accuracy\": [binary, three_shot, one_shot, zero_shot]})"
      ],
      "metadata": {
        "id": "cmcFV9FWYk3F"
      },
      "execution_count": null,
      "outputs": []
    },
    {
      "cell_type": "code",
      "source": [
        "x"
      ],
      "metadata": {
        "colab": {
          "base_uri": "https://localhost:8080/",
          "height": 175
        },
        "id": "tTxWH9NCJ5Et",
        "outputId": "68705604-eb18-4fa0-f6ca-e16cbae8775c"
      },
      "execution_count": null,
      "outputs": [
        {
          "output_type": "execute_result",
          "data": {
            "text/plain": [
              "                        Model  Accuracy\n",
              "0  Single Query Binary 3 shot  0.877049\n",
              "1      Prev Curr Query 3 shot  0.898000\n",
              "2      Prev Curr Query 1 shot  0.868000\n",
              "3      Prev Curr Query 0 shot  0.834000"
            ],
            "text/html": [
              "\n",
              "  <div id=\"df-aaf1fe41-8118-4573-aa95-7cae66afa959\" class=\"colab-df-container\">\n",
              "    <div>\n",
              "<style scoped>\n",
              "    .dataframe tbody tr th:only-of-type {\n",
              "        vertical-align: middle;\n",
              "    }\n",
              "\n",
              "    .dataframe tbody tr th {\n",
              "        vertical-align: top;\n",
              "    }\n",
              "\n",
              "    .dataframe thead th {\n",
              "        text-align: right;\n",
              "    }\n",
              "</style>\n",
              "<table border=\"1\" class=\"dataframe\">\n",
              "  <thead>\n",
              "    <tr style=\"text-align: right;\">\n",
              "      <th></th>\n",
              "      <th>Model</th>\n",
              "      <th>Accuracy</th>\n",
              "    </tr>\n",
              "  </thead>\n",
              "  <tbody>\n",
              "    <tr>\n",
              "      <th>0</th>\n",
              "      <td>Single Query Binary 3 shot</td>\n",
              "      <td>0.877049</td>\n",
              "    </tr>\n",
              "    <tr>\n",
              "      <th>1</th>\n",
              "      <td>Prev Curr Query 3 shot</td>\n",
              "      <td>0.898000</td>\n",
              "    </tr>\n",
              "    <tr>\n",
              "      <th>2</th>\n",
              "      <td>Prev Curr Query 1 shot</td>\n",
              "      <td>0.868000</td>\n",
              "    </tr>\n",
              "    <tr>\n",
              "      <th>3</th>\n",
              "      <td>Prev Curr Query 0 shot</td>\n",
              "      <td>0.834000</td>\n",
              "    </tr>\n",
              "  </tbody>\n",
              "</table>\n",
              "</div>\n",
              "    <div class=\"colab-df-buttons\">\n",
              "\n",
              "  <div class=\"colab-df-container\">\n",
              "    <button class=\"colab-df-convert\" onclick=\"convertToInteractive('df-aaf1fe41-8118-4573-aa95-7cae66afa959')\"\n",
              "            title=\"Convert this dataframe to an interactive table.\"\n",
              "            style=\"display:none;\">\n",
              "\n",
              "  <svg xmlns=\"http://www.w3.org/2000/svg\" height=\"24px\" viewBox=\"0 -960 960 960\">\n",
              "    <path d=\"M120-120v-720h720v720H120Zm60-500h600v-160H180v160Zm220 220h160v-160H400v160Zm0 220h160v-160H400v160ZM180-400h160v-160H180v160Zm440 0h160v-160H620v160ZM180-180h160v-160H180v160Zm440 0h160v-160H620v160Z\"/>\n",
              "  </svg>\n",
              "    </button>\n",
              "\n",
              "  <style>\n",
              "    .colab-df-container {\n",
              "      display:flex;\n",
              "      gap: 12px;\n",
              "    }\n",
              "\n",
              "    .colab-df-convert {\n",
              "      background-color: #E8F0FE;\n",
              "      border: none;\n",
              "      border-radius: 50%;\n",
              "      cursor: pointer;\n",
              "      display: none;\n",
              "      fill: #1967D2;\n",
              "      height: 32px;\n",
              "      padding: 0 0 0 0;\n",
              "      width: 32px;\n",
              "    }\n",
              "\n",
              "    .colab-df-convert:hover {\n",
              "      background-color: #E2EBFA;\n",
              "      box-shadow: 0px 1px 2px rgba(60, 64, 67, 0.3), 0px 1px 3px 1px rgba(60, 64, 67, 0.15);\n",
              "      fill: #174EA6;\n",
              "    }\n",
              "\n",
              "    .colab-df-buttons div {\n",
              "      margin-bottom: 4px;\n",
              "    }\n",
              "\n",
              "    [theme=dark] .colab-df-convert {\n",
              "      background-color: #3B4455;\n",
              "      fill: #D2E3FC;\n",
              "    }\n",
              "\n",
              "    [theme=dark] .colab-df-convert:hover {\n",
              "      background-color: #434B5C;\n",
              "      box-shadow: 0px 1px 3px 1px rgba(0, 0, 0, 0.15);\n",
              "      filter: drop-shadow(0px 1px 2px rgba(0, 0, 0, 0.3));\n",
              "      fill: #FFFFFF;\n",
              "    }\n",
              "  </style>\n",
              "\n",
              "    <script>\n",
              "      const buttonEl =\n",
              "        document.querySelector('#df-aaf1fe41-8118-4573-aa95-7cae66afa959 button.colab-df-convert');\n",
              "      buttonEl.style.display =\n",
              "        google.colab.kernel.accessAllowed ? 'block' : 'none';\n",
              "\n",
              "      async function convertToInteractive(key) {\n",
              "        const element = document.querySelector('#df-aaf1fe41-8118-4573-aa95-7cae66afa959');\n",
              "        const dataTable =\n",
              "          await google.colab.kernel.invokeFunction('convertToInteractive',\n",
              "                                                    [key], {});\n",
              "        if (!dataTable) return;\n",
              "\n",
              "        const docLinkHtml = 'Like what you see? Visit the ' +\n",
              "          '<a target=\"_blank\" href=https://colab.research.google.com/notebooks/data_table.ipynb>data table notebook</a>'\n",
              "          + ' to learn more about interactive tables.';\n",
              "        element.innerHTML = '';\n",
              "        dataTable['output_type'] = 'display_data';\n",
              "        await google.colab.output.renderOutput(dataTable, element);\n",
              "        const docLink = document.createElement('div');\n",
              "        docLink.innerHTML = docLinkHtml;\n",
              "        element.appendChild(docLink);\n",
              "      }\n",
              "    </script>\n",
              "  </div>\n",
              "\n",
              "\n",
              "<div id=\"df-bfd0cb81-8996-4d4c-b333-b022cabd621c\">\n",
              "  <button class=\"colab-df-quickchart\" onclick=\"quickchart('df-bfd0cb81-8996-4d4c-b333-b022cabd621c')\"\n",
              "            title=\"Suggest charts\"\n",
              "            style=\"display:none;\">\n",
              "\n",
              "<svg xmlns=\"http://www.w3.org/2000/svg\" height=\"24px\"viewBox=\"0 0 24 24\"\n",
              "     width=\"24px\">\n",
              "    <g>\n",
              "        <path d=\"M19 3H5c-1.1 0-2 .9-2 2v14c0 1.1.9 2 2 2h14c1.1 0 2-.9 2-2V5c0-1.1-.9-2-2-2zM9 17H7v-7h2v7zm4 0h-2V7h2v10zm4 0h-2v-4h2v4z\"/>\n",
              "    </g>\n",
              "</svg>\n",
              "  </button>\n",
              "\n",
              "<style>\n",
              "  .colab-df-quickchart {\n",
              "      --bg-color: #E8F0FE;\n",
              "      --fill-color: #1967D2;\n",
              "      --hover-bg-color: #E2EBFA;\n",
              "      --hover-fill-color: #174EA6;\n",
              "      --disabled-fill-color: #AAA;\n",
              "      --disabled-bg-color: #DDD;\n",
              "  }\n",
              "\n",
              "  [theme=dark] .colab-df-quickchart {\n",
              "      --bg-color: #3B4455;\n",
              "      --fill-color: #D2E3FC;\n",
              "      --hover-bg-color: #434B5C;\n",
              "      --hover-fill-color: #FFFFFF;\n",
              "      --disabled-bg-color: #3B4455;\n",
              "      --disabled-fill-color: #666;\n",
              "  }\n",
              "\n",
              "  .colab-df-quickchart {\n",
              "    background-color: var(--bg-color);\n",
              "    border: none;\n",
              "    border-radius: 50%;\n",
              "    cursor: pointer;\n",
              "    display: none;\n",
              "    fill: var(--fill-color);\n",
              "    height: 32px;\n",
              "    padding: 0;\n",
              "    width: 32px;\n",
              "  }\n",
              "\n",
              "  .colab-df-quickchart:hover {\n",
              "    background-color: var(--hover-bg-color);\n",
              "    box-shadow: 0 1px 2px rgba(60, 64, 67, 0.3), 0 1px 3px 1px rgba(60, 64, 67, 0.15);\n",
              "    fill: var(--button-hover-fill-color);\n",
              "  }\n",
              "\n",
              "  .colab-df-quickchart-complete:disabled,\n",
              "  .colab-df-quickchart-complete:disabled:hover {\n",
              "    background-color: var(--disabled-bg-color);\n",
              "    fill: var(--disabled-fill-color);\n",
              "    box-shadow: none;\n",
              "  }\n",
              "\n",
              "  .colab-df-spinner {\n",
              "    border: 2px solid var(--fill-color);\n",
              "    border-color: transparent;\n",
              "    border-bottom-color: var(--fill-color);\n",
              "    animation:\n",
              "      spin 1s steps(1) infinite;\n",
              "  }\n",
              "\n",
              "  @keyframes spin {\n",
              "    0% {\n",
              "      border-color: transparent;\n",
              "      border-bottom-color: var(--fill-color);\n",
              "      border-left-color: var(--fill-color);\n",
              "    }\n",
              "    20% {\n",
              "      border-color: transparent;\n",
              "      border-left-color: var(--fill-color);\n",
              "      border-top-color: var(--fill-color);\n",
              "    }\n",
              "    30% {\n",
              "      border-color: transparent;\n",
              "      border-left-color: var(--fill-color);\n",
              "      border-top-color: var(--fill-color);\n",
              "      border-right-color: var(--fill-color);\n",
              "    }\n",
              "    40% {\n",
              "      border-color: transparent;\n",
              "      border-right-color: var(--fill-color);\n",
              "      border-top-color: var(--fill-color);\n",
              "    }\n",
              "    60% {\n",
              "      border-color: transparent;\n",
              "      border-right-color: var(--fill-color);\n",
              "    }\n",
              "    80% {\n",
              "      border-color: transparent;\n",
              "      border-right-color: var(--fill-color);\n",
              "      border-bottom-color: var(--fill-color);\n",
              "    }\n",
              "    90% {\n",
              "      border-color: transparent;\n",
              "      border-bottom-color: var(--fill-color);\n",
              "    }\n",
              "  }\n",
              "</style>\n",
              "\n",
              "  <script>\n",
              "    async function quickchart(key) {\n",
              "      const quickchartButtonEl =\n",
              "        document.querySelector('#' + key + ' button');\n",
              "      quickchartButtonEl.disabled = true;  // To prevent multiple clicks.\n",
              "      quickchartButtonEl.classList.add('colab-df-spinner');\n",
              "      try {\n",
              "        const charts = await google.colab.kernel.invokeFunction(\n",
              "            'suggestCharts', [key], {});\n",
              "      } catch (error) {\n",
              "        console.error('Error during call to suggestCharts:', error);\n",
              "      }\n",
              "      quickchartButtonEl.classList.remove('colab-df-spinner');\n",
              "      quickchartButtonEl.classList.add('colab-df-quickchart-complete');\n",
              "    }\n",
              "    (() => {\n",
              "      let quickchartButtonEl =\n",
              "        document.querySelector('#df-bfd0cb81-8996-4d4c-b333-b022cabd621c button');\n",
              "      quickchartButtonEl.style.display =\n",
              "        google.colab.kernel.accessAllowed ? 'block' : 'none';\n",
              "    })();\n",
              "  </script>\n",
              "</div>\n",
              "\n",
              "  <div id=\"id_9038c553-2fbe-46b0-b36d-c94f71e4cb86\">\n",
              "    <style>\n",
              "      .colab-df-generate {\n",
              "        background-color: #E8F0FE;\n",
              "        border: none;\n",
              "        border-radius: 50%;\n",
              "        cursor: pointer;\n",
              "        display: none;\n",
              "        fill: #1967D2;\n",
              "        height: 32px;\n",
              "        padding: 0 0 0 0;\n",
              "        width: 32px;\n",
              "      }\n",
              "\n",
              "      .colab-df-generate:hover {\n",
              "        background-color: #E2EBFA;\n",
              "        box-shadow: 0px 1px 2px rgba(60, 64, 67, 0.3), 0px 1px 3px 1px rgba(60, 64, 67, 0.15);\n",
              "        fill: #174EA6;\n",
              "      }\n",
              "\n",
              "      [theme=dark] .colab-df-generate {\n",
              "        background-color: #3B4455;\n",
              "        fill: #D2E3FC;\n",
              "      }\n",
              "\n",
              "      [theme=dark] .colab-df-generate:hover {\n",
              "        background-color: #434B5C;\n",
              "        box-shadow: 0px 1px 3px 1px rgba(0, 0, 0, 0.15);\n",
              "        filter: drop-shadow(0px 1px 2px rgba(0, 0, 0, 0.3));\n",
              "        fill: #FFFFFF;\n",
              "      }\n",
              "    </style>\n",
              "    <button class=\"colab-df-generate\" onclick=\"generateWithVariable('x')\"\n",
              "            title=\"Generate code using this dataframe.\"\n",
              "            style=\"display:none;\">\n",
              "\n",
              "  <svg xmlns=\"http://www.w3.org/2000/svg\" height=\"24px\"viewBox=\"0 0 24 24\"\n",
              "       width=\"24px\">\n",
              "    <path d=\"M7,19H8.4L18.45,9,17,7.55,7,17.6ZM5,21V16.75L18.45,3.32a2,2,0,0,1,2.83,0l1.4,1.43a1.91,1.91,0,0,1,.58,1.4,1.91,1.91,0,0,1-.58,1.4L9.25,21ZM18.45,9,17,7.55Zm-12,3A5.31,5.31,0,0,0,4.9,8.1,5.31,5.31,0,0,0,1,6.5,5.31,5.31,0,0,0,4.9,4.9,5.31,5.31,0,0,0,6.5,1,5.31,5.31,0,0,0,8.1,4.9,5.31,5.31,0,0,0,12,6.5,5.46,5.46,0,0,0,6.5,12Z\"/>\n",
              "  </svg>\n",
              "    </button>\n",
              "    <script>\n",
              "      (() => {\n",
              "      const buttonEl =\n",
              "        document.querySelector('#id_9038c553-2fbe-46b0-b36d-c94f71e4cb86 button.colab-df-generate');\n",
              "      buttonEl.style.display =\n",
              "        google.colab.kernel.accessAllowed ? 'block' : 'none';\n",
              "\n",
              "      buttonEl.onclick = () => {\n",
              "        google.colab.notebook.generateWithVariable('x');\n",
              "      }\n",
              "      })();\n",
              "    </script>\n",
              "  </div>\n",
              "\n",
              "    </div>\n",
              "  </div>\n"
            ],
            "application/vnd.google.colaboratory.intrinsic+json": {
              "type": "dataframe",
              "variable_name": "x",
              "summary": "{\n  \"name\": \"x\",\n  \"rows\": 4,\n  \"fields\": [\n    {\n      \"column\": \"Model\",\n      \"properties\": {\n        \"dtype\": \"string\",\n        \"num_unique_values\": 4,\n        \"samples\": [\n          \"Prev Curr Query 3 shot\",\n          \"Prev Curr Query 0 shot\",\n          \"Single Query Binary 3 shot\"\n        ],\n        \"semantic_type\": \"\",\n        \"description\": \"\"\n      }\n    },\n    {\n      \"column\": \"Accuracy\",\n      \"properties\": {\n        \"dtype\": \"number\",\n        \"std\": 0.026655294090233168,\n        \"min\": 0.834,\n        \"max\": 0.898,\n        \"num_unique_values\": 4,\n        \"samples\": [\n          0.898,\n          0.834,\n          0.8770491803278688\n        ],\n        \"semantic_type\": \"\",\n        \"description\": \"\"\n      }\n    }\n  ]\n}"
            }
          },
          "metadata": {},
          "execution_count": 24
        }
      ]
    },
    {
      "cell_type": "code",
      "source": [],
      "metadata": {
        "id": "2G6PZhF7J5cH"
      },
      "execution_count": null,
      "outputs": []
    }
  ]
}