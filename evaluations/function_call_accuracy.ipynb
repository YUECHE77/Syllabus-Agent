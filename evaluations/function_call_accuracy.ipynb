{
 "nbformat": 4,
 "nbformat_minor": 0,
 "metadata": {
  "colab": {
   "provenance": []
  },
  "kernelspec": {
   "name": "python3",
   "display_name": "Python 3"
  },
  "language_info": {
   "name": "python"
  }
 },
 "cells": [
  {
   "cell_type": "code",
   "source": [
    "!pip install -q together\n",
    "!pip install openai==0.27.8\n",
    "!pip install zhipuai"
   ],
   "metadata": {
    "colab": {
     "base_uri": "https://localhost:8080/"
    },
    "collapsed": true,
    "id": "KmhVTbfy2C2j",
    "outputId": "b07a52ca-e389-4ca2-f9c9-da70807fc77a"
   },
   "execution_count": null,
   "outputs": [
    {
     "output_type": "stream",
     "name": "stdout",
     "text": [
      "Collecting openai==0.27.8\n",
      "  Downloading openai-0.27.8-py3-none-any.whl.metadata (13 kB)\n",
      "Requirement already satisfied: requests>=2.20 in /usr/local/lib/python3.10/dist-packages (from openai==0.27.8) (2.32.3)\n",
      "Requirement already satisfied: tqdm in /usr/local/lib/python3.10/dist-packages (from openai==0.27.8) (4.66.6)\n",
      "Requirement already satisfied: aiohttp in /usr/local/lib/python3.10/dist-packages (from openai==0.27.8) (3.11.2)\n",
      "Requirement already satisfied: charset-normalizer<4,>=2 in /usr/local/lib/python3.10/dist-packages (from requests>=2.20->openai==0.27.8) (3.4.0)\n",
      "Requirement already satisfied: idna<4,>=2.5 in /usr/local/lib/python3.10/dist-packages (from requests>=2.20->openai==0.27.8) (3.10)\n",
      "Requirement already satisfied: urllib3<3,>=1.21.1 in /usr/local/lib/python3.10/dist-packages (from requests>=2.20->openai==0.27.8) (2.2.3)\n",
      "Requirement already satisfied: certifi>=2017.4.17 in /usr/local/lib/python3.10/dist-packages (from requests>=2.20->openai==0.27.8) (2024.8.30)\n",
      "Requirement already satisfied: aiohappyeyeballs>=2.3.0 in /usr/local/lib/python3.10/dist-packages (from aiohttp->openai==0.27.8) (2.4.3)\n",
      "Requirement already satisfied: aiosignal>=1.1.2 in /usr/local/lib/python3.10/dist-packages (from aiohttp->openai==0.27.8) (1.3.1)\n",
      "Requirement already satisfied: attrs>=17.3.0 in /usr/local/lib/python3.10/dist-packages (from aiohttp->openai==0.27.8) (24.2.0)\n",
      "Requirement already satisfied: frozenlist>=1.1.1 in /usr/local/lib/python3.10/dist-packages (from aiohttp->openai==0.27.8) (1.5.0)\n",
      "Requirement already satisfied: multidict<7.0,>=4.5 in /usr/local/lib/python3.10/dist-packages (from aiohttp->openai==0.27.8) (6.1.0)\n",
      "Requirement already satisfied: propcache>=0.2.0 in /usr/local/lib/python3.10/dist-packages (from aiohttp->openai==0.27.8) (0.2.0)\n",
      "Requirement already satisfied: yarl<2.0,>=1.17.0 in /usr/local/lib/python3.10/dist-packages (from aiohttp->openai==0.27.8) (1.17.2)\n",
      "Requirement already satisfied: async-timeout<6.0,>=4.0 in /usr/local/lib/python3.10/dist-packages (from aiohttp->openai==0.27.8) (4.0.3)\n",
      "Requirement already satisfied: typing-extensions>=4.1.0 in /usr/local/lib/python3.10/dist-packages (from multidict<7.0,>=4.5->aiohttp->openai==0.27.8) (4.12.2)\n",
      "Downloading openai-0.27.8-py3-none-any.whl (73 kB)\n",
      "\u001B[2K   \u001B[90m━━━━━━━━━━━━━━━━━━━━━━━━━━━━━━━━━━━━━━━━\u001B[0m \u001B[32m73.6/73.6 kB\u001B[0m \u001B[31m2.7 MB/s\u001B[0m eta \u001B[36m0:00:00\u001B[0m\n",
      "\u001B[?25hInstalling collected packages: openai\n",
      "  Attempting uninstall: openai\n",
      "    Found existing installation: openai 1.54.4\n",
      "    Uninstalling openai-1.54.4:\n",
      "      Successfully uninstalled openai-1.54.4\n",
      "Successfully installed openai-0.27.8\n",
      "Collecting zhipuai\n",
      "  Downloading zhipuai-2.1.5.20230904-py3-none-any.whl.metadata (10 kB)\n",
      "Requirement already satisfied: cachetools>=4.2.2 in /usr/local/lib/python3.10/dist-packages (from zhipuai) (5.5.0)\n",
      "Requirement already satisfied: httpx>=0.23.0 in /usr/local/lib/python3.10/dist-packages (from zhipuai) (0.27.2)\n",
      "Requirement already satisfied: pydantic<3.0,>=1.9.0 in /usr/local/lib/python3.10/dist-packages (from zhipuai) (2.9.2)\n",
      "Requirement already satisfied: pydantic-core>=2.14.6 in /usr/local/lib/python3.10/dist-packages (from zhipuai) (2.23.4)\n",
      "Collecting pyjwt<2.9.0,>=2.8.0 (from zhipuai)\n",
      "  Downloading PyJWT-2.8.0-py3-none-any.whl.metadata (4.2 kB)\n",
      "Requirement already satisfied: anyio in /usr/local/lib/python3.10/dist-packages (from httpx>=0.23.0->zhipuai) (3.7.1)\n",
      "Requirement already satisfied: certifi in /usr/local/lib/python3.10/dist-packages (from httpx>=0.23.0->zhipuai) (2024.8.30)\n",
      "Requirement already satisfied: httpcore==1.* in /usr/local/lib/python3.10/dist-packages (from httpx>=0.23.0->zhipuai) (1.0.7)\n",
      "Requirement already satisfied: idna in /usr/local/lib/python3.10/dist-packages (from httpx>=0.23.0->zhipuai) (3.10)\n",
      "Requirement already satisfied: sniffio in /usr/local/lib/python3.10/dist-packages (from httpx>=0.23.0->zhipuai) (1.3.1)\n",
      "Requirement already satisfied: h11<0.15,>=0.13 in /usr/local/lib/python3.10/dist-packages (from httpcore==1.*->httpx>=0.23.0->zhipuai) (0.14.0)\n",
      "Requirement already satisfied: annotated-types>=0.6.0 in /usr/local/lib/python3.10/dist-packages (from pydantic<3.0,>=1.9.0->zhipuai) (0.7.0)\n",
      "Requirement already satisfied: typing-extensions>=4.6.1 in /usr/local/lib/python3.10/dist-packages (from pydantic<3.0,>=1.9.0->zhipuai) (4.12.2)\n",
      "Requirement already satisfied: exceptiongroup in /usr/local/lib/python3.10/dist-packages (from anyio->httpx>=0.23.0->zhipuai) (1.2.2)\n",
      "Downloading zhipuai-2.1.5.20230904-py3-none-any.whl (104 kB)\n",
      "\u001B[2K   \u001B[90m━━━━━━━━━━━━━━━━━━━━━━━━━━━━━━━━━━━━━━━━\u001B[0m \u001B[32m105.0/105.0 kB\u001B[0m \u001B[31m4.1 MB/s\u001B[0m eta \u001B[36m0:00:00\u001B[0m\n",
      "\u001B[?25hDownloading PyJWT-2.8.0-py3-none-any.whl (22 kB)\n",
      "Installing collected packages: pyjwt, zhipuai\n",
      "  Attempting uninstall: pyjwt\n",
      "    Found existing installation: PyJWT 2.10.0\n",
      "    Uninstalling PyJWT-2.10.0:\n",
      "      Successfully uninstalled PyJWT-2.10.0\n",
      "Successfully installed pyjwt-2.8.0 zhipuai-2.1.5.20230904\n"
     ]
    }
   ]
  },
  {
   "cell_type": "code",
   "source": [
    "from google.colab import userdata\n",
    "TOGETHER_API_KEY = userdata.get('TOGETHER_API_KEY')"
   ],
   "metadata": {
    "id": "9fxkPRRo2G05"
   },
   "execution_count": null,
   "outputs": []
  },
  {
   "cell_type": "code",
   "source": [
    "from together import Together\n",
    "import openai\n",
    "from zhipuai import ZhipuAI\n",
    "\n",
    "import os\n",
    "import re\n",
    "import json\n",
    "import numpy as np\n",
    "import requests\n",
    "\n",
    "import pandas as pd\n",
    "from collections import Counter"
   ],
   "metadata": {
    "id": "jpfKBJGK2L7B"
   },
   "execution_count": null,
   "outputs": []
  },
  {
   "cell_type": "code",
   "source": [
    "together = Together(api_key=TOGETHER_API_KEY)\n",
    "openai.api_key = userdata.get('OpenAI_API_Key')\n",
    "\n",
    "GLM_API_Key = userdata.get('GLM_API_Key')  # https://www.bigmodel.cn/usercenter/apikeys\n",
    "client = ZhipuAI(api_key=GLM_API_Key)"
   ],
   "metadata": {
    "id": "lFc24wUh2p8m"
   },
   "execution_count": null,
   "outputs": []
  },
  {
   "cell_type": "code",
   "source": [
    "tools_list = [\n",
    "    {\n",
    "        \"type\": \"function\",\n",
    "        \"function\": {\n",
    "            \"name\": \"RAG\",\n",
    "            \"description\": \"Retrieve the relevant section in the given knowledge base when the user asks information about courses or syllabus.\",\n",
    "            \"parameters\": {\n",
    "                \"type\": \"object\",\n",
    "                \"properties\": {\n",
    "                    \"query\": {\n",
    "                        \"type\": \"string\",\n",
    "                        \"description\": \"The original question that the user asks exactly, no need to rephrase.\",\n",
    "                    },\n",
    "                },\n",
    "                \"required\": [\"query\"],\n",
    "                \"additionalProperties\": False,\n",
    "            },\n",
    "        }\n",
    "    },\n",
    "    {\n",
    "        \"type\": \"function\",\n",
    "        \"function\": {\n",
    "            \"name\": \"get_current_weather\",\n",
    "            \"description\": \"Fetches the current weather for a given location.\",\n",
    "            \"parameters\": {\n",
    "                \"type\": \"object\",\n",
    "                \"properties\": {\n",
    "                    \"location\": {\n",
    "                        \"type\": \"string\",\n",
    "                        \"description\": \"The name of the city and country (e.g., 'San Francisco, US').\",\n",
    "                    },\n",
    "                },\n",
    "                \"required\": [\"location\"],\n",
    "                \"additionalProperties\": False,\n",
    "            },\n",
    "        }\n",
    "    },\n",
    "    {\n",
    "        \"type\": \"function\",\n",
    "        \"function\": {\n",
    "            \"name\": \"financial_news_report\",\n",
    "            \"description\": \"Retrieve recent financial news when the user asks for it.\",\n",
    "            \"parameters\": {\n",
    "                \"type\": \"object\",\n",
    "                \"properties\": {\n",
    "                    \"query\": {\n",
    "                        \"type\": \"string\",\n",
    "                        \"description\": \"The original question that the user asks exactly, no need to rephrase.\",\n",
    "                    },\n",
    "                },\n",
    "                \"required\": [\"query\"],\n",
    "                \"additionalProperties\": False,\n",
    "            },\n",
    "        }\n",
    "    },\n",
    "]\n",
    "\n",
    "toolPrompt = f\"\"\"\n",
    "You have access to the following functions:\n",
    "\n",
    "Use the function '{tools_list[0]['function']['name']}' to '{tools_list[0]['function']['description']}'.\n",
    "The parameters are: {json.dumps(tools_list[0]['function']['parameters']['properties'])}, where {tools_list[0]['function']['parameters']['required']} are required.\n",
    "\n",
    "Use the function '{tools_list[1]['function']['name']}' to '{tools_list[1]['function']['description']}':\n",
    "The parameters are: {json.dumps(tools_list[1]['function']['parameters']['properties'])}, where {tools_list[1]['function']['parameters']['required']} are required.\n",
    "\n",
    "Use the function '{tools_list[2]['function']['name']}' to '{tools_list[2]['function']['description']}':\n",
    "The parameters are: {json.dumps(tools_list[2]['function']['parameters']['properties'])}, where {tools_list[2]['function']['parameters']['required']} are required.\n",
    "\n",
    "If you choose to call a function ONLY reply in the following format with no prefix or suffix:\n",
    "\n",
    "<function=example_function_name>{{\\\"example_name\\\": \\\"example_value\\\"}}</function>\n",
    "\n",
    "Reminder:\n",
    "- Function calls MUST follow the specified format, start with <function= and end with </function>\n",
    "- Required parameters MUST be specified\n",
    "- Only call one function at a time\n",
    "- Put the entire function call reply on one line\n",
    "- If there is no function call available, answer the question like normal with your current knowledge and do not tell the user about function calls\n",
    "\n",
    "\"\"\""
   ],
   "metadata": {
    "id": "NQ6-CUTv2p3D"
   },
   "execution_count": null,
   "outputs": []
  },
  {
   "cell_type": "code",
   "source": [
    "def parse_tool_response(response_message):\n",
    "    \"\"\"\n",
    "    response_message: response.choices[0].message\n",
    "    \"\"\"\n",
    "    if response_message.tool_calls:\n",
    "        parsed_response = {\n",
    "            \"function\": response_message.tool_calls[0].function.name,\n",
    "            \"arguments\": json.loads(response_message.tool_calls[0].function.arguments)\n",
    "          }\n",
    "\n",
    "        return parsed_response\n",
    "\n",
    "    function_regex = r\"<function=([a-zA-Z_]\\w*)>(\\{.*?\\})\\s*(?:</function>|<function(?:/[\\w]*)?>)\"\n",
    "    match = re.search(function_regex, response_message.content)\n",
    "\n",
    "    if match:\n",
    "        function_name, args_string = match.groups()\n",
    "        args_string = args_string.strip()\n",
    "\n",
    "        try:\n",
    "            args = json.loads(args_string)\n",
    "\n",
    "            parsed_response = {\n",
    "                \"function\": function_name,\n",
    "                \"arguments\": args,\n",
    "            }\n",
    "\n",
    "            return parsed_response\n",
    "\n",
    "        except json.JSONDecodeError as error:\n",
    "            print(f\"Error parsing function arguments: {error}\")\n",
    "            return None\n",
    "\n",
    "    return None"
   ],
   "metadata": {
    "id": "6P0lC8LC2xlD"
   },
   "execution_count": null,
   "outputs": []
  },
  {
   "cell_type": "code",
   "execution_count": null,
   "metadata": {
    "colab": {
     "base_uri": "https://localhost:8080/"
    },
    "id": "bKHSucwb12QE",
    "outputId": "07df4758-56e7-4420-ce46-77f58e378c49"
   },
   "outputs": [
    {
     "output_type": "stream",
     "name": "stdout",
     "text": [
      "Total query number: 305\n",
      "'Will there be any guest speakers in Robotic Perception?' is duplicated 2 times\n"
     ]
    }
   ],
   "source": [
    "def load_queries_and_functions(csv_path_list):\n",
    "    \"\"\"\n",
    "    Reads a CSV file containing queries and function names, and converts it to a dictionary.\n",
    "\n",
    "    Args:\n",
    "    csv_path (str): Path to the CSV file.\n",
    "\n",
    "    Returns:\n",
    "    dict: A dictionary with queries as keys and function names as values.\n",
    "    \"\"\"\n",
    "    all_queries = []\n",
    "    all_functions = []\n",
    "\n",
    "    for csv_path in csv_path_list:\n",
    "        # Load the CSV file into a pandas DataFrame\n",
    "        data = pd.read_csv(csv_path)\n",
    "\n",
    "        # Ensure the necessary columns exist\n",
    "        if 'query' not in data.columns or 'function_to_call' not in data.columns:\n",
    "            raise ValueError(\"CSV file must contain 'query' and 'function_to_call' columns.\")\n",
    "\n",
    "        all_queries.extend(data['query'])\n",
    "        all_functions.extend(data['function_to_call'])\n",
    "\n",
    "    assert len(all_queries) == len(all_functions)\n",
    "    print('Total query number:', len(all_queries))\n",
    "\n",
    "    counter = Counter(all_queries)\n",
    "    for item, count in counter.items():\n",
    "        if count > 1:\n",
    "            print(f\"'{item}' is duplicated {count} times\")\n",
    "\n",
    "    query_function_dict = dict(zip(all_queries, all_functions))\n",
    "\n",
    "    return query_function_dict\n",
    "\n",
    "# Path to the CSV file in Google Drive\n",
    "csv_path_list = ['/content/combined_data.csv', '/content/combined_fake_data.csv']\n",
    "query_function_dict = load_queries_and_functions(csv_path_list)"
   ]
  },
  {
   "cell_type": "code",
   "source": [
    "print(len(query_function_dict))"
   ],
   "metadata": {
    "colab": {
     "base_uri": "https://localhost:8080/"
    },
    "id": "ZSY-DP-s2-eD",
    "outputId": "13b6cc00-8ee2-4ca1-f600-76b6bdaa1c58"
   },
   "execution_count": null,
   "outputs": [
    {
     "output_type": "stream",
     "name": "stdout",
     "text": [
      "304\n"
     ]
    }
   ]
  },
  {
   "cell_type": "markdown",
   "source": [
    "# LLaMA function call accuracy"
   ],
   "metadata": {
    "id": "gB8rdB-w3qsZ"
   }
  },
  {
   "cell_type": "code",
   "source": [
    "correct_tool_usage = 0\n",
    "incorrect_queries = []\n",
    "\n",
    "for query, expected_function in query_function_dict.items():\n",
    "    response = together.chat.completions.create(\n",
    "        model=\"meta-llama/Meta-Llama-3.1-8B-Instruct-Turbo\",\n",
    "        messages=[{\"role\": \"system\", \"content\": toolPrompt}, {\"role\": \"user\", \"content\": query}],\n",
    "        max_tokens=1024,\n",
    "        temperature=0,\n",
    "        tools=tools_list,\n",
    "        tool_choice=\"auto\",\n",
    "    )\n",
    "\n",
    "    parsed_response = parse_tool_response(response.choices[0].message)\n",
    "    # print(f\"Query: {query}\\nExpected: {expected_function}, Predicted: {parsed_response}\")\n",
    "\n",
    "    if parsed_response and parsed_response.get(\"function\") == expected_function:\n",
    "        correct_tool_usage += 1\n",
    "    else:\n",
    "        incorrect_queries.append((query, response.choices[0].message.content))\n",
    "\n",
    "accuracy = (correct_tool_usage / len(query_function_dict)) * 100\n",
    "print(f\"\\nAccuracy: {accuracy:.2f}%\")\n",
    "print(f\"Total Correct: {correct_tool_usage} / {len(query_function_dict)}\")\n",
    "\n",
    "print(\"\\nIncorrect Queries:\")\n",
    "for q, c in incorrect_queries:\n",
    "    print(q)\n",
    "    print(c)\n",
    "    print()"
   ],
   "metadata": {
    "colab": {
     "base_uri": "https://localhost:8080/"
    },
    "id": "9voaMr-N3qUY",
    "outputId": "7ac3cf52-8c83-4fcc-9826-2643ab735022"
   },
   "execution_count": null,
   "outputs": [
    {
     "output_type": "stream",
     "name": "stdout",
     "text": [
      "\n",
      "Accuracy: 99.67%\n",
      "Total Correct: 303 / 304\n",
      "\n",
      "Incorrect Queries:\n",
      "Please tell me when and where 585 will be held.\n",
      "I'm not aware of any information about an event called \"585\". Could you provide more context or clarify what you are referring to?\n",
      "\n"
     ]
    }
   ]
  },
  {
   "cell_type": "markdown",
   "source": [
    "# Qwen function call accuracy"
   ],
   "metadata": {
    "id": "t62pidQ03CcB"
   }
  },
  {
   "cell_type": "code",
   "source": [
    "correct_tool_usage = 0\n",
    "incorrect_queries = []\n",
    "\n",
    "for query, expected_function in query_function_dict.items():\n",
    "    response = together.chat.completions.create(\n",
    "        model=\"Qwen/Qwen2.5-7B-Instruct-Turbo\",\n",
    "        messages=[{\"role\": \"system\", \"content\": toolPrompt}, {\"role\": \"user\", \"content\": query}],\n",
    "        max_tokens=1024,\n",
    "        temperature=0,\n",
    "        # functions=functions,\n",
    "        # tools=tools_list,\n",
    "        # tool_choice=\"auto\",\n",
    "    )\n",
    "\n",
    "    parsed_response = parse_tool_response(response.choices[0].message)\n",
    "    # print(f\"Query: {query}\\nExpected: {expected_function}, Predicted: {parsed_response}\")\n",
    "\n",
    "    if parsed_response and parsed_response.get(\"function\") == expected_function:\n",
    "        correct_tool_usage += 1\n",
    "    else:\n",
    "        incorrect_queries.append((query, response.choices[0].message.content))\n",
    "\n",
    "accuracy = (correct_tool_usage / len(query_function_dict)) * 100\n",
    "print(f\"\\nAccuracy: {accuracy:.2f}%\")\n",
    "print(f\"Total Correct: {correct_tool_usage} / {len(query_function_dict)}\")\n",
    "\n",
    "print(\"\\nIncorrect Queries:\")\n",
    "for q, c in incorrect_queries:\n",
    "    print(q)\n",
    "    print(c)\n",
    "    print()"
   ],
   "metadata": {
    "colab": {
     "base_uri": "https://localhost:8080/"
    },
    "id": "5bIy7p1M3AVb",
    "outputId": "547a6306-42ce-452a-936d-1a71d38c3d18"
   },
   "execution_count": null,
   "outputs": [
    {
     "output_type": "stream",
     "name": "stdout",
     "text": [
      "\n",
      "Accuracy: 95.72%\n",
      "Total Correct: 291 / 304\n",
      "\n",
      "Incorrect Queries:\n",
      "Tell me about the time line for the project for Natural Language Processing\n",
      "The information about the project timeline for Natural Language Processing is not available in the current knowledge base. I would recommend checking the project management tools or documents for detailed information. If you need help with understanding NLP concepts or other related information, I can assist with that.\n",
      "\n",
      "Tell me the email of teaching assistance Matthew Finlayson for Natural Language Processing\n",
      "The knowledge base does not contain specific contact information for individual teaching assistants. I recommend checking the course page or contacting the department directly for this information.\n",
      "\n",
      "How much is the project worth for deep learning?\n",
      "The value or worth of a project in deep learning can vary widely depending on several factors such as the specific goals of the project, the complexity of the tasks involved, the size and quality of the dataset, the technology stack used, and the expertise of the team. Could you provide more details about the project so I can give you a more accurate estimate?\n",
      "\n",
      "In which classroom is this class held for 585?\n",
      "The information about the classroom for course 585 is not available in the current knowledge base. I would recommend checking the university's course management system or contacting the department directly for this information.\n",
      "\n",
      "Please tell me when and where 585 will be held.\n",
      "I need more information to determine the specific event you're referring to. Could you please provide more details about the event \"585\"? The course code or name might help in finding the relevant information.\n",
      "\n",
      "How many percentage can I get an A for 596?\n",
      "I'm sorry, but I don't have the specific grading scale for course 596. Can you provide more details or check with your instructor for the exact percentage needed for an A?\n",
      "\n",
      "What are the office hours for the CSCI566 instructor?\n",
      "The information about the office hours for the CSCI566 instructor is not available in the current knowledge base. I would recommend checking the course syllabus or contacting the instructor directly for this information. If you need help with any other course details, feel free to ask!\n",
      "\n",
      "When are the professor's office hours for the database systems class?\n",
      "The knowledge base does not provide specific information about individual professors' office hours for the database systems class. I recommend checking the course syllabus or contacting the course administrator for this information.\n",
      "\n",
      "What is the contact information for the professor of the database systems class?\n",
      "The knowledge base does not provide specific contact information for professors or details about individual classes. I recommend checking the university's course management system or the department's website for this information.\n",
      "\n",
      "Where is the csci585 held?\n",
      "The information about the location of CSCI585 is not directly available in the knowledge base I have access to. However, if you could provide more context or details about the course or syllabus, I might be able to help you find the relevant information. Alternatively, you can check the course syllabus or the university's course catalog for the most accurate and up-to-date information.\n",
      "\n",
      "What is the email address of the professor for scientific computing and visualization?\n",
      "I don't have direct access to the email addresses of professors. You might want to check the university's directory or the course syllabus for this information. If you provide me with the name of the professor or more details about the course, I can try to find the information for you.\n",
      "\n",
      "What are the office hours for the professor of Distributed Systems?\n",
      "The information about the professor's office hours for Distributed Systems is not available in the current knowledge base. I would recommend checking the course syllabus or contacting the academic department for this information. If you need help with any other course details, feel free to ask!\n",
      "\n",
      "How can I contact the instructor for Advanced Computer Vision?\n",
      "I don't have direct access to contact information for instructors. Typically, you can find this information on the course syllabus or the university's learning management system (LMS) like Blackboard or Canvas. If you provide me with the course syllabus or more details about the course, I can help you extract the contact information. Otherwise, you might want to check the university's website or contact the course coordinator for assistance.\n",
      "\n"
     ]
    }
   ]
  },
  {
   "cell_type": "markdown",
   "source": [
    "# GLM function call accuracy"
   ],
   "metadata": {
    "id": "0rEqCbMi4Jgr"
   }
  },
  {
   "cell_type": "code",
   "source": [
    "correct_tool_usage = 0\n",
    "incorrect_queries = []\n",
    "\n",
    "for query, expected_function in query_function_dict.items():\n",
    "    response = client.chat.completions.create(\n",
    "        model=\"glm-4-9b\",\n",
    "        messages=[{\"role\": \"system\", \"content\": toolPrompt}, {\"role\": \"user\", \"content\": query}],\n",
    "        tools=tools_list,\n",
    "        tool_choice=\"auto\",\n",
    "    )\n",
    "\n",
    "    parsed_response = parse_tool_response(response.choices[0].message)\n",
    "    # print(f\"Query: {query}\\nExpected: {expected_function}, Predicted: {parsed_response}\")\n",
    "\n",
    "    if parsed_response and parsed_response.get(\"function\") == expected_function:\n",
    "        correct_tool_usage += 1\n",
    "    else:\n",
    "        incorrect_queries.append((query, response.choices[0].message.content))\n",
    "\n",
    "accuracy = (correct_tool_usage / len(query_function_dict)) * 100\n",
    "print(f\"\\nAccuracy: {accuracy:.2f}%\")\n",
    "print(f\"Total Correct: {correct_tool_usage} / {len(query_function_dict)}\")\n",
    "\n",
    "print(\"\\nIncorrect Queries:\")\n",
    "for q, c in incorrect_queries:\n",
    "    print(q)\n",
    "    print(c)\n",
    "    print()"
   ],
   "metadata": {
    "colab": {
     "base_uri": "https://localhost:8080/"
    },
    "id": "9StI1SEf3j3U",
    "outputId": "bbc956bc-7c37-4ea9-9f5a-3349a4b4e805"
   },
   "execution_count": null,
   "outputs": [
    {
     "output_type": "stream",
     "name": "stdout",
     "text": [
      "\n",
      "Accuracy: 90.46%\n",
      "Total Correct: 275 / 304\n",
      "\n",
      "Incorrect Queries:\n",
      "What is the main focus of the computing and visualization class?\n",
      "The main focus of the computing and visualization class is to provide students with a comprehensive understanding of computational methods and their applications in data analysis, scientific research, and other fields. This class covers topics such as programming, data structures, algorithms, and visualization techniques. Students will learn how to analyze and visualize complex data sets, develop efficient algorithms, and use various tools and software for data processing and visualization. The course aims to equip students with the necessary skills to tackle real-world problems using computational methods and visualization techniques.\n",
      "\n",
      "In text as data, what type of homework is assigned, and what percentage of the grade does it account for?\n",
      "The percentage of the grade that homework accounts for in text as data can vary depending on the specific course and instructor's preferences. However, it is typically a significant portion, often around 20-30%. Homework assignments in this context usually involve analyzing and interpreting text data, applying statistical techniques, or completing practical projects related to text data processing.\n",
      "\n",
      "What is the proportion of Midterm 1 for Natural Language Processing (NLP)\n",
      "RAG{\"query\": \"What is the proportion of Midterm 1 for Natural Language Processing (NLP)?\"}\n",
      "\n",
      "Tell me about the time line for the project for Natural Language Processing\n",
      "I'm sorry, but I don't have access to the specific timeline for the project on Natural Language Processing. The timeline can vary depending on the organization or individual involved. If you have more context or details about the project, I might be able to provide some general information.\n",
      "\n",
      "When is the final exam for NLP?\n",
      "I'm sorry, but I don't have the specific date for the final exam in NLP. The date for the final exam is typically determined by the academic institution or program you are enrolled in. I recommend checking with your course syllabus or contacting your instructor for the most accurate and up-to-date information.\n",
      "\n",
      "Tell me the email of teaching assistance Matthew Finlayson for Natural Language Processing\n",
      "I'm sorry, but I don't have access to personal information such as email addresses for teaching assistants. If you need Matthew Finlayson's email, I recommend checking the official department website or contacting the department directly.\n",
      "\n",
      "What are some of the contact informations about TA and professor for deep learning?\n",
      "I'm sorry, but I don't have access to specific contact information for TAs or professors. You might want to check the department website or course syllabus for that information.\n",
      "\n",
      "How much is the project worth for deep learning?\n",
      "I'm sorry, but I don't have access to specific project budgets or worth. The value of a deep learning project can vary widely depending on the scope, complexity, and resources required. If you have more details about the specific project in question, I can provide more general information or guidance.\n",
      "\n",
      "How much the homework makes up the final grade  for deep learning?\n",
      "I'm sorry, but I don't have the specific information regarding the homework's contribution to the final grade for deep learning. This detail is typically provided in the syllabus for the course. I can retrieve this information for you if you provide the course name or syllabus reference.\n",
      "\n",
      "What is the required reading for deep learning?\n",
      "I'm sorry, but I don't have access to a knowledge base that includes information about required readings for specific courses. If you have a specific course in mind, I can try to provide general information about the topic.\n",
      "\n",
      "How much does attendance count for for 585?\n",
      "I'm sorry, but I don't have the specific information about the attendance policy for course 585. You may want to check the syllabus or contact the instructor for more details.\n",
      "\n",
      "How many units is for database systems?\n",
      "I am unable to find the information about the number of units for database systems from the provided functions. I recommend checking the syllabus or contacting the relevant department for this information.\n",
      "\n",
      "What time is database systems held?\n",
      "I'm sorry, but I don't have the specific schedule for the course you're asking about. It would be best to check the official university website or contact the department directly for the most accurate information.\n",
      "\n",
      "Who is grading our assignments for database systems?\n",
      "The person responsible for grading the assignments for database systems is Dr. Smith.\n",
      "\n",
      "How is the Reaction Paragraphs assignment graded in CSCI626?\n",
      "I'm sorry, but I don't have the specific information about the grading criteria for the Reaction Paragraphs assignment in CSCI626. It's best to consult the course syllabus or your instructor for details on how this assignment is graded.\n",
      "\n",
      "Does CS677 have any teaching assistants?\n",
      "I'm sorry, but I don't have access to the specific information about teaching assistants for CS677. To get this information, I would need to access the course syllabus or contact the department directly. If you have a question about the course content or other related matters, I can try to help with that.\n",
      "\n",
      "What is the contact information for the professor of the database systems class?\n",
      "I'm sorry, but I don't have access to the contact information for individual professors. You may need to check the university's website or contact the department directly for this information.\n",
      "\n",
      "When is the final project report due for scientific computing and visualization?\n",
      "I'm sorry, but I don't have access to the specific syllabus or course information for scientific computing and visualization to provide the due date for the final project report. If you have a specific course code or instructor's name, I can try to help you find the information. Alternatively, you might want to check the course syllabus or contact the instructor directly.\n",
      "\n",
      "How many units is CSCI599?\n",
      "I'm sorry, but I don't have information about the number of units for CSCI599. It's best to check the university's course catalog or contact the department for the most accurate and up-to-date information.\n",
      "\n",
      "How are convolutional neural networks applied in Advanced Computer Vision?\n",
      "Convolutional neural networks (CNNs) are extensively applied in advanced computer vision tasks due to their ability to automatically and adaptively learn spatial hierarchies of features from input images. Here are some key applications:\n",
      "\n",
      "1. Image classification: CNNs are highly effective in classifying images into different categories. They can identify objects, scenes, and actions in images.\n",
      "\n",
      "2. Object detection: CNNs can be used to detect and locate objects within an image. This is essential for applications like autonomous vehicles, where it's crucial to identify and track objects on the road.\n",
      "\n",
      "3. Semantic segmentation: In this task, CNNs are used to label each pixel in an image with a corresponding semantic class (e.g., person, car, tree). This is useful for applications like augmented reality and 3D modeling.\n",
      "\n",
      "4. Instance segmentation: This is a more challenging task than semantic segmentation, as it requires distinguishing between different instances of the same object in an image. CNNs can be adapted for this purpose, enabling applications like person re-identification and object tracking.\n",
      "\n",
      "5. Depth estimation: CNNs can be used to estimate the depth of objects within an image, which is vital for tasks like 3D reconstruction and augmented reality.\n",
      "\n",
      "6. Pose estimation: CNNs can determine the 3D orientation of objects in images, which is useful for human-computer interaction, robotics, and augmented reality.\n",
      "\n",
      "7. Image generation and style transfer: CNNs, particularly generative adversarial networks (GANs), can create realistic images and transfer the style of one image to another.\n",
      "\n",
      "8. Video analysis: CNNs can be applied to analyze videos, enabling applications like action recognition, human behavior analysis, and video surveillance.\n",
      "\n",
      "9. Medical image analysis: CNNs have been successfully applied to medical imaging tasks, such as tumor detection, disease diagnosis, and organ segmentation.\n",
      "\n",
      "10. Remote sensing: CNNs can analyze satellite and aerial imagery, which is useful for applications like land cover classification, change detection, and disaster monitoring.\n",
      "\n",
      "These applications demonstrate the versatility and effectiveness of CNNs in advanced computer vision tasks.\n",
      "\n",
      "What data analysis techniques are used in Robotic Perception?\n",
      "I'm sorry, but I need more information to answer your question. Can you please provide more details about the courses or syllabus you are interested in?\n",
      "\n",
      "Are there any late submission policies for lab assignments and homework in csci599?\n",
      "RAG{\"query\": \"Are there any late submission policies for lab assignments and homework in csci599?\"}\n",
      "\n",
      "For csci626, how can students seek additional help if they are struggling with course material outside of office hours?\n",
      "Students can seek additional help with the course material by contacting the teaching assistant (TA) during their office hours or by joining study groups with fellow classmates. They can also utilize online resources such as discussion forums and video tutorials. If these options are not sufficient, students can schedule a one-on-one meeting with the instructor to discuss their concerns.\n",
      "\n",
      "What is the math assignment about for 585?\n",
      "I'm sorry, but I don't have access to specific course syllabi or assignments. If you need information about a math assignment for a specific course, I recommend checking the course syllabus or contacting the instructor directly.\n",
      "\n",
      "When is the deadline of project proposal for database systems?\n",
      "I'm sorry, I cannot provide the specific deadline for the project proposal for database systems without more information. This information is typically provided by the academic institution or the instructor teaching the course. I recommend checking the syllabus or contacting your instructor for the most accurate and up-to-date deadline.\n",
      "\n",
      "When is the office hours of the instructor for 596?\n",
      "I'm sorry, but I don't have access to the office hours of the instructor for 596. Please check the course syllabus or contact the department for this information.\n",
      "\n",
      "Will there be any online resources or forums available for CS626?\n",
      "I'm sorry, but I don't have access to external databases or online resources like CS626. If you are referring to a specific course or syllabus, please provide more details, and I'll do my best to help you based on my existing knowledge.\n",
      "\n",
      "How much time should I dedicate to study each week for CSCI677?\n",
      "I'm sorry, but I don't have information about the specific study time required for CSCI677. It would be best to consult with the instructor or the department for this information.\n",
      "\n",
      "Are there any recommended online resources for scientific computing and visualization?\n",
      "I'm sorry, I don't have real-time access to external databases or online resources. However, I can suggest some general types of resources you might find helpful for scientific computing and visualization:\n",
      "\n",
      "1. Online courses: Platforms like Coursera, edX, and Udacity offer courses in scientific computing and data visualization from universities and institutions around the world.\n",
      "\n",
      "2. Tutorials and documentation: Websites like Stack Overflow, GitHub, and the official documentation of software libraries (e.g., NumPy, SciPy, Matplotlib) are great for learning specific techniques and tools.\n",
      "\n",
      "3. Books: There are many books available on scientific computing and visualization, ranging from introductory to advanced levels.\n",
      "\n",
      "4. Journals and papers: Academic journals such as IEEE Transactions on Visualization and Computer Graphics, ACM Transactions on Graphics, and others publish research on scientific visualization and related topics.\n",
      "\n",
      "5. Online forums and communities: Online communities like Reddit's r/scientificcomputing and the Data Science Stack Exchange can be valuable for getting help and advice.\n",
      "\n",
      "For more specific recommendations, I would need to know your current level of expertise and the specific areas of scientific computing and visualization you're interested in.\n",
      "\n"
     ]
    }
   ]
  },
  {
   "cell_type": "markdown",
   "source": [
    "# GPT function call accuracy"
   ],
   "metadata": {
    "id": "I5aysmzO4WbT"
   }
  },
  {
   "cell_type": "code",
   "source": [
    "def parse_tool_response_GPT(response_message):\n",
    "    parsed_results = None\n",
    "\n",
    "    # 使用 getattr 获取 tool_calls，防止 AttributeError\n",
    "    tool_calls = getattr(response_message, \"tool_calls\", None)\n",
    "\n",
    "    if tool_calls is not None and response_message.content is None:\n",
    "        parsed_results = {}\n",
    "\n",
    "        func_info = tool_calls[0].function\n",
    "        parsed_results['function'] = func_info.name\n",
    "        parsed_results['arguments'] = json.loads(func_info.arguments)\n",
    "\n",
    "    return parsed_results"
   ],
   "metadata": {
    "id": "kioC4I6KCNdc"
   },
   "execution_count": null,
   "outputs": []
  },
  {
   "cell_type": "code",
   "source": [
    "correct_tool_usage = 0\n",
    "incorrect_queries = []\n",
    "\n",
    "for query, expected_function in query_function_dict.items():\n",
    "    messages = []\n",
    "    messages.append({\"role\": \"system\", \"content\": \"You are a helpful customer support assistant. Use the supplied tools to assist the user. And only call one function at a time.\"})\n",
    "    messages.append({\"role\": \"user\", \"content\": query})\n",
    "\n",
    "    response = openai.ChatCompletion.create(\n",
    "        model=\"gpt-4\",  # Specify the ChatGPT-4 model\n",
    "        messages=messages,\n",
    "        max_tokens=1024,\n",
    "        temperature=0,\n",
    "        tools=tools_list,\n",
    "        tool_choice=\"auto\"\n",
    "    )\n",
    "\n",
    "    parsed_response = parse_tool_response_GPT(response.choices[0].message)\n",
    "    # print(f\"Query: {query}\\nExpected: {expected_function}, Predicted: {parsed_response}\")\n",
    "\n",
    "    if parsed_response is not None and parsed_response.get(\"function\") == expected_function:\n",
    "        correct_tool_usage += 1\n",
    "    else:\n",
    "        incorrect_queries.append((query, response.choices[0].message.content))\n",
    "\n",
    "accuracy = (correct_tool_usage / len(query_function_dict)) * 100\n",
    "print(f\"\\nAccuracy: {accuracy:.2f}%\")\n",
    "print(f\"Total Correct: {correct_tool_usage} / {len(query_function_dict)}\")\n",
    "\n",
    "print(\"\\nIncorrect Queries:\")\n",
    "for q, c in incorrect_queries:\n",
    "    print(q)\n",
    "    print(c)\n",
    "    print()"
   ],
   "metadata": {
    "colab": {
     "base_uri": "https://localhost:8080/"
    },
    "id": "oR56uelD4WMw",
    "outputId": "204651bd-dee3-4f3a-dbc1-d08d91a9e2c3"
   },
   "execution_count": null,
   "outputs": [
    {
     "output_type": "stream",
     "name": "stdout",
     "text": [
      "\n",
      "Accuracy: 99.67%\n",
      "Total Correct: 303 / 304\n",
      "\n",
      "Incorrect Queries:\n",
      "Tell me the email of teaching assistance Matthew Finlayson for Natural Language Processing\n",
      "I'm sorry, but I can't assist with that.\n",
      "\n"
     ]
    }
   ]
  },
  {
   "cell_type": "code",
   "source": [],
   "metadata": {
    "id": "Nf5HNfS6BZY2"
   },
   "execution_count": null,
   "outputs": []
  }
 ]
}
